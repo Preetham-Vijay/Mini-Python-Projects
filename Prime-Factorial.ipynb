{
 "cells": [
  {
   "cell_type": "code",
   "execution_count": 3,
   "metadata": {},
   "outputs": [
    {
     "name": "stdin",
     "output_type": "stream",
     "text": [
      "enter a number 45\n"
     ]
    },
    {
     "name": "stdout",
     "output_type": "stream",
     "text": [
      "3 5 are the prime numbers\n"
     ]
    }
   ],
   "source": [
    "#Prime factorial of a number\n",
    "n=int(input(\"enter a number\"))\n",
    "for i in range(2,n+1):\n",
    "    if n%i==0:\n",
    "        prime=True\n",
    "        for j in range(2,(i//2)+1):\n",
    "            if i%j==0:\n",
    "                prime=False\n",
    "            \n",
    "        if prime==True:\n",
    "            print(i,end=\" \")\n",
    "print(\"are the prime factors numbers\")"
   ]
  },
  {
   "cell_type": "code",
   "execution_count": null,
   "metadata": {},
   "outputs": [],
   "source": []
  }
 ],
 "metadata": {
  "kernelspec": {
   "display_name": "Python 3",
   "language": "python",
   "name": "python3"
  },
  "language_info": {
   "codemirror_mode": {
    "name": "ipython",
    "version": 3
   },
   "file_extension": ".py",
   "mimetype": "text/x-python",
   "name": "python",
   "nbconvert_exporter": "python",
   "pygments_lexer": "ipython3",
   "version": "3.8.5"
  }
 },
 "nbformat": 4,
 "nbformat_minor": 4
}

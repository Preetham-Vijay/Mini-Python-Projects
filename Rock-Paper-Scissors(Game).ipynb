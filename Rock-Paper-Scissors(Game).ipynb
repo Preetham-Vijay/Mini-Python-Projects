{
 "cells": [
  {
   "cell_type": "code",
   "execution_count": 1,
   "metadata": {},
   "outputs": [
    {
     "name": "stdin",
     "output_type": "stream",
     "text": [
      "enter rock, paper or scissors rock\n"
     ]
    },
    {
     "name": "stdout",
     "output_type": "stream",
     "text": [
      "Match is drawn\n"
     ]
    },
    {
     "name": "stdin",
     "output_type": "stream",
     "text": [
      "enter y to continue playing y\n",
      "enter rock, paper or scissors scissors\n"
     ]
    },
    {
     "name": "stdout",
     "output_type": "stream",
     "text": [
      "Computer wins\n"
     ]
    },
    {
     "name": "stdin",
     "output_type": "stream",
     "text": [
      "enter y to continue n\n"
     ]
    }
   ],
   "source": [
    "import random\n",
    "l=[\"rock\",\"paper\",\"scissors\"]\n",
    "ch=\"y\"\n",
    "while ch==\"y\":\n",
    "    comp=random.choice(l)\n",
    "    ply=input(\"enter rock, paper or scissors\")\n",
    "    if comp==ply:\n",
    "        print(\"Match is drawn\")\n",
    "        ch=input(\"enter y to continue playing\")\n",
    "    else:\n",
    "        for i in range(1):\n",
    "            if comp==l[0] and ply!=l[1]:\n",
    "                print(\"Computer wins\")\n",
    "            elif comp==l[1] and ply!=l[2]:\n",
    "                print(\"Computer Wins\")\n",
    "            elif comp==l[2] and ply!=l[0]:\n",
    "                print(\"Computer Wins\")\n",
    "            else:\n",
    "                print(\"Player Wins\")\n",
    "        ch=input(\"enter y to continue\")"
   ]
  },
  {
   "cell_type": "code",
   "execution_count": null,
   "metadata": {},
   "outputs": [],
   "source": []
  }
 ],
 "metadata": {
  "kernelspec": {
   "display_name": "Python 3",
   "language": "python",
   "name": "python3"
  },
  "language_info": {
   "codemirror_mode": {
    "name": "ipython",
    "version": 3
   },
   "file_extension": ".py",
   "mimetype": "text/x-python",
   "name": "python",
   "nbconvert_exporter": "python",
   "pygments_lexer": "ipython3",
   "version": "3.8.5"
  }
 },
 "nbformat": 4,
 "nbformat_minor": 4
}

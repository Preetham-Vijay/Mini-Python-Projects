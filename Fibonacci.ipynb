{
 "cells": [
  {
   "cell_type": "code",
   "execution_count": 2,
   "metadata": {},
   "outputs": [
    {
     "name": "stdin",
     "output_type": "stream",
     "text": [
      "Enter the value of 'n':  5\n"
     ]
    },
    {
     "name": "stdout",
     "output_type": "stream",
     "text": [
      "Fibonacci Series:  0 1 1 2 3 "
     ]
    }
   ],
   "source": [
    "n = int(input(\"Enter the value of 'n': \"))\n",
    "a = 0\n",
    "b = 1\n",
    "summ = 0\n",
    "count = 1\n",
    "print(\"Fibonacci Series: \", end = \" \")\n",
    "while(count <= n):\n",
    "  print(summ, end = \" \")\n",
    "  count += 1\n",
    "  a = b\n",
    "  b = summ\n",
    "  summ= a + b"
   ]
  },
  {
   "cell_type": "code",
   "execution_count": null,
   "metadata": {},
   "outputs": [],
   "source": []
  }
 ],
 "metadata": {
  "kernelspec": {
   "display_name": "Python 3",
   "language": "python",
   "name": "python3"
  },
  "language_info": {
   "codemirror_mode": {
    "name": "ipython",
    "version": 3
   },
   "file_extension": ".py",
   "mimetype": "text/x-python",
   "name": "python",
   "nbconvert_exporter": "python",
   "pygments_lexer": "ipython3",
   "version": "3.8.5"
  }
 },
 "nbformat": 4,
 "nbformat_minor": 4
}

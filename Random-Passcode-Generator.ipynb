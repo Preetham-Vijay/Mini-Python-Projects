{
 "cells": [
  {
   "cell_type": "code",
   "execution_count": 2,
   "metadata": {},
   "outputs": [
    {
     "name": "stdout",
     "output_type": "stream",
     "text": [
      "oH6# is the randomly generated password\n"
     ]
    }
   ],
   "source": [
    "import random\n",
    "def passwordgenerator():\n",
    "    a=\"abcdefghijklmnopqrstuvwxyz\"\n",
    "    b=\"ABCDEFGHIJKLMNOPQRSTUVWXYZ\"\n",
    "    c=\"0123456789\"\n",
    "    d=\"!@#$%^&*\"\n",
    "    password=(random.choice(a))+(random.choice(b))+(random.choice(c))+(random.choice(d))\n",
    "    return password\n",
    "\n",
    "a=passwordgenerator()\n",
    "print(a,\"is the randomly generated password\")"
   ]
  },
  {
   "cell_type": "code",
   "execution_count": null,
   "metadata": {},
   "outputs": [],
   "source": []
  }
 ],
 "metadata": {
  "kernelspec": {
   "display_name": "Python 3",
   "language": "python",
   "name": "python3"
  },
  "language_info": {
   "codemirror_mode": {
    "name": "ipython",
    "version": 3
   },
   "file_extension": ".py",
   "mimetype": "text/x-python",
   "name": "python",
   "nbconvert_exporter": "python",
   "pygments_lexer": "ipython3",
   "version": "3.8.5"
  }
 },
 "nbformat": 4,
 "nbformat_minor": 4
}
